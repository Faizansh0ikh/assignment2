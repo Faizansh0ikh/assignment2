{
 "cells": [
  {
   "cell_type": "code",
   "execution_count": null,
   "id": "10b6304f-d5c7-4dfd-8064-de846ade775d",
   "metadata": {},
   "outputs": [],
   "source": [
    "Q1. How do you comment code in Python? What are the different types of comments?"
   ]
  },
  {
   "cell_type": "code",
   "execution_count": null,
   "id": "1d3e3244-b4d4-41ac-885c-2b0a6a6be3bb",
   "metadata": {},
   "outputs": [],
   "source": [
    "With the use of '#' we can comment in python.\n",
    "In python there are two types of comments in python\n",
    "1) Single line comment\n",
    "When comment is no longer than a line then this comment we can use.\n",
    "Example # This is single line comment\n",
    "2) Multiple line comment\n",
    "When we want to comment in multiple lines then this type of comment we can use.\n",
    "Example \"\"\" This is multiple line comment\n",
    "first line...............................\n",
    "second line...............................\n",
    "Third line...............................\n",
    "Forth line...............................\n",
    "and so on. \"\""
   ]
  },
  {
   "cell_type": "code",
   "execution_count": null,
   "id": "1b743377-ce7f-4f50-a151-4399259d8b62",
   "metadata": {},
   "outputs": [],
   "source": [
    "Q2. What are variables in Python? How do you declare and assign values to variables?"
   ]
  },
  {
   "cell_type": "code",
   "execution_count": null,
   "id": "3beba66b-039d-4148-8897-00508a0f6050",
   "metadata": {},
   "outputs": [],
   "source": [
    "Variables are containers for storing the data.\n",
    "With the use of assignment operator we can declare and assign values to variables.\n",
    "Example :-\n",
    "\n",
    "name = \"values\"\n",
    "\n",
    "here name is name of variable and values is valaue assigned to this name variable."
   ]
  },
  {
   "cell_type": "code",
   "execution_count": null,
   "id": "cf6e7c2b-fc30-49c6-a60f-061f37061c52",
   "metadata": {},
   "outputs": [],
   "source": [
    "Q3. How do you convert one data type to another in Python?"
   ]
  },
  {
   "cell_type": "code",
   "execution_count": null,
   "id": "9063ae19-7864-40d5-8f8c-ed213d6ad9b5",
   "metadata": {},
   "outputs": [],
   "source": [
    "With the use of conversion function we can convert one data type to another\n",
    "\n",
    "int() converts value to integer\n",
    "float() converts value to float\n",
    "str() coverts value to string\n",
    "bool() converts value to boolean\n"
   ]
  },
  {
   "cell_type": "code",
   "execution_count": 3,
   "id": "f736d62d-3457-494c-a605-64b2c1952aec",
   "metadata": {},
   "outputs": [
    {
     "name": "stdout",
     "output_type": "stream",
     "text": [
      "22\n"
     ]
    }
   ],
   "source": [
    "#Example string to int convertor\n",
    "\n",
    "age = \"22\"\n",
    "new_age = int(age)\n",
    "print(new_age)"
   ]
  },
  {
   "cell_type": "code",
   "execution_count": 4,
   "id": "2a22e06c-e475-4544-bfbd-140bfa718b78",
   "metadata": {},
   "outputs": [
    {
     "name": "stdout",
     "output_type": "stream",
     "text": [
      "22.0\n"
     ]
    }
   ],
   "source": [
    "#Example string to int convertor\n",
    "\n",
    "age = \"22\"\n",
    "new_age = int(age)\n",
    "print(new_age)"
   ]
  },
  {
   "cell_type": "code",
   "execution_count": 15,
   "id": "c4f10996-a1cf-478f-b300-7f91c7bc6e56",
   "metadata": {},
   "outputs": [
    {
     "data": {
      "text/plain": [
       "str"
      ]
     },
     "execution_count": 15,
     "metadata": {},
     "output_type": "execute_result"
    }
   ],
   "source": [
    "#Example int to string convertor\n",
    "\n",
    "age = 22\n",
    "new_age = str(age)\n",
    "type(new_age)\n"
   ]
  },
  {
   "cell_type": "code",
   "execution_count": 17,
   "id": "04be64cc-d446-4f1d-b237-fc3894d57561",
   "metadata": {},
   "outputs": [
    {
     "name": "stdout",
     "output_type": "stream",
     "text": [
      "1\n"
     ]
    }
   ],
   "source": [
    "#Example boolean to integer convertor\n",
    "\n",
    "age = True\n",
    "new_age = int(age)\n",
    "print(new_age)"
   ]
  },
  {
   "cell_type": "code",
   "execution_count": null,
   "id": "aa959177-dff7-43dd-8e6c-c1b6ddc47be5",
   "metadata": {},
   "outputs": [],
   "source": [
    "Q4. How do you write and execute a Python script from the command line?"
   ]
  },
  {
   "cell_type": "code",
   "execution_count": null,
   "id": "329a2ab9-5c93-4106-93bd-19175b4dd353",
   "metadata": {},
   "outputs": [],
   "source": [
    "To write and execute a Python script from the command line\n",
    "\n",
    "1. Open a text editor and create a new file.\n",
    "\n",
    "2. Write your Python code in the text editor and save the file with a `.py` extension.\n",
    "3. Open the command line or terminal on your operating system.\n",
    "\n",
    "4. you can execute the Python script by typing `python` followed by the name of your script file. For example:\n",
    "\n",
    "   python script.py\n",
    "   \n"
   ]
  },
  {
   "cell_type": "code",
   "execution_count": null,
   "id": "98846e22-e229-4532-abd6-3244a573e5c3",
   "metadata": {},
   "outputs": [],
   "source": [
    "Q5. Given a list my_list = [1, 2, 3, 4, 5], write the code to slice the list and obtain the sub-list [2, 3]."
   ]
  },
  {
   "cell_type": "code",
   "execution_count": 2,
   "id": "b11d5f35-3143-40b0-8f2c-e82bf2443e4c",
   "metadata": {},
   "outputs": [
    {
     "data": {
      "text/plain": [
       "[2, 3]"
      ]
     },
     "execution_count": 2,
     "metadata": {},
     "output_type": "execute_result"
    }
   ],
   "source": [
    "my_list = [1,2,3,4,5]\n",
    "\n",
    "my_list[1:3]"
   ]
  },
  {
   "cell_type": "code",
   "execution_count": null,
   "id": "f24362ca-b488-462a-9473-80dd65e6ba1c",
   "metadata": {},
   "outputs": [],
   "source": [
    "Q6. What is a complex number in mathematics, and how is it represented in Python?"
   ]
  },
  {
   "cell_type": "code",
   "execution_count": null,
   "id": "6a32310f-acfa-43d4-9b0c-fac26f445df5",
   "metadata": {},
   "outputs": [],
   "source": [
    "Complex number is a combination of real and imaginary nambers\n",
    "example :-\n",
    "3+5i\n",
    "here 3 is real number and 5i is imaginary.\n",
    "In python it is represented as it is there is only a miner chaange in python we use j instant of i."
   ]
  },
  {
   "cell_type": "code",
   "execution_count": 4,
   "id": "66aa475e-e83e-464d-90a8-f754d09a2690",
   "metadata": {},
   "outputs": [],
   "source": [
    "a = 3 + 4j"
   ]
  },
  {
   "cell_type": "code",
   "execution_count": 5,
   "id": "a3347b41-5d0a-4f53-a287-aa5835b99e3a",
   "metadata": {},
   "outputs": [
    {
     "data": {
      "text/plain": [
       "complex"
      ]
     },
     "execution_count": 5,
     "metadata": {},
     "output_type": "execute_result"
    }
   ],
   "source": [
    "type(a)"
   ]
  },
  {
   "cell_type": "code",
   "execution_count": null,
   "id": "177fb6b4-0097-43bd-94c2-cb70a4c4fdec",
   "metadata": {},
   "outputs": [],
   "source": [
    "Q.7 What is the correct way to declare a variable named age and assign the value 25 to it?"
   ]
  },
  {
   "cell_type": "code",
   "execution_count": 12,
   "id": "a5149a92-3453-45f5-a19c-d2fb05fb2370",
   "metadata": {},
   "outputs": [],
   "source": [
    "a = 25"
   ]
  },
  {
   "cell_type": "code",
   "execution_count": 13,
   "id": "12c4e3ca-c102-4b2d-b400-1c533d9a4a8c",
   "metadata": {},
   "outputs": [
    {
     "data": {
      "text/plain": [
       "25"
      ]
     },
     "execution_count": 13,
     "metadata": {},
     "output_type": "execute_result"
    }
   ],
   "source": [
    "a"
   ]
  },
  {
   "cell_type": "code",
   "execution_count": null,
   "id": "b15ac7c6-e25c-4241-8944-2f70b10f3d2e",
   "metadata": {},
   "outputs": [],
   "source": [
    "Q8. Declare a variable named price and assign the value 9.99 to it. What data type does this variable\n",
    "belong to?"
   ]
  },
  {
   "cell_type": "code",
   "execution_count": 15,
   "id": "fd45b6a6-ba48-4f9f-b9a5-ae1d374b09f6",
   "metadata": {},
   "outputs": [],
   "source": [
    "price = 9.99"
   ]
  },
  {
   "cell_type": "code",
   "execution_count": 16,
   "id": "42a26abc-1c11-4125-90d2-d1156375b868",
   "metadata": {},
   "outputs": [
    {
     "data": {
      "text/plain": [
       "9.99"
      ]
     },
     "execution_count": 16,
     "metadata": {},
     "output_type": "execute_result"
    }
   ],
   "source": [
    "price"
   ]
  },
  {
   "cell_type": "code",
   "execution_count": 17,
   "id": "a9d80a5a-19d0-4890-a438-6bf4e4715a01",
   "metadata": {},
   "outputs": [
    {
     "data": {
      "text/plain": [
       "float"
      ]
     },
     "execution_count": 17,
     "metadata": {},
     "output_type": "execute_result"
    }
   ],
   "source": [
    "type(price)"
   ]
  },
  {
   "cell_type": "code",
   "execution_count": null,
   "id": "a9cb6536-d44d-440d-88eb-625471d513f3",
   "metadata": {},
   "outputs": [],
   "source": [
    "Q9. Create a variable named name and assign your full name to it as a string. How would you print the\n",
    "value of this variable?"
   ]
  },
  {
   "cell_type": "code",
   "execution_count": 18,
   "id": "6f8633ad-b099-4edc-a605-e0997f9a9fb1",
   "metadata": {},
   "outputs": [
    {
     "name": "stdout",
     "output_type": "stream",
     "text": [
      "Faizan Shaikh\n"
     ]
    }
   ],
   "source": [
    "name = \"Faizan Shaikh\"\n",
    "print(name)"
   ]
  },
  {
   "cell_type": "code",
   "execution_count": null,
   "id": "9f40fa7b-5d34-44f4-ab60-89c708b2f729",
   "metadata": {},
   "outputs": [],
   "source": [
    "Q10. Given the string \"Hello, World!\", extract the substring \"World\"."
   ]
  },
  {
   "cell_type": "code",
   "execution_count": 26,
   "id": "339d49df-175d-4902-972a-04fa896c52d1",
   "metadata": {},
   "outputs": [],
   "source": [
    "Title = \"Hello, World\""
   ]
  },
  {
   "cell_type": "code",
   "execution_count": 28,
   "id": "c126a5e5-2fb2-4b03-b4bb-46b669c4737b",
   "metadata": {},
   "outputs": [
    {
     "data": {
      "text/plain": [
       "'World'"
      ]
     },
     "execution_count": 28,
     "metadata": {},
     "output_type": "execute_result"
    }
   ],
   "source": [
    "Title[7:12]"
   ]
  },
  {
   "cell_type": "code",
   "execution_count": null,
   "id": "942839f6-4a60-42fc-b207-578b5974d4e2",
   "metadata": {},
   "outputs": [],
   "source": [
    "Q11. Create a variable named \"is_student\" and assign it a boolean value indicating whether you are\n",
    "currently a student or not."
   ]
  },
  {
   "cell_type": "code",
   "execution_count": null,
   "id": "7438149c-b74e-4435-984b-2f4998183a8f",
   "metadata": {},
   "outputs": [],
   "source": [
    "is_student = True"
   ]
  },
  {
   "cell_type": "code",
   "execution_count": null,
   "id": "cd5ba928-9c25-41b8-a65d-437dd8f3bac5",
   "metadata": {},
   "outputs": [],
   "source": []
  },
  {
   "cell_type": "code",
   "execution_count": null,
   "id": "f6c4dcc6-a838-4a22-b5e0-0fc528994cdc",
   "metadata": {},
   "outputs": [],
   "source": []
  },
  {
   "cell_type": "code",
   "execution_count": null,
   "id": "269050c5-3c10-4837-8d2c-552f18d44688",
   "metadata": {},
   "outputs": [],
   "source": []
  }
 ],
 "metadata": {
  "kernelspec": {
   "display_name": "Python 3 (ipykernel)",
   "language": "python",
   "name": "python3"
  },
  "language_info": {
   "codemirror_mode": {
    "name": "ipython",
    "version": 3
   },
   "file_extension": ".py",
   "mimetype": "text/x-python",
   "name": "python",
   "nbconvert_exporter": "python",
   "pygments_lexer": "ipython3",
   "version": "3.10.8"
  }
 },
 "nbformat": 4,
 "nbformat_minor": 5
}
